{
 "cells": [
  {
   "cell_type": "markdown",
   "metadata": {},
   "source": [
    "# Classifier Autoencoder"
   ]
  },
  {
   "cell_type": "code",
   "execution_count": 1,
   "metadata": {},
   "outputs": [],
   "source": [
    "import matplotlib.pyplot as plt\n",
    "import tensorflow as tf\n",
    "import pandas as pd\n",
    "import numpy as np"
   ]
  },
  {
   "cell_type": "code",
   "execution_count": 2,
   "metadata": {},
   "outputs": [],
   "source": [
    "wine_df = pd.read_csv('./winequality-red.csv')"
   ]
  },
  {
   "cell_type": "code",
   "execution_count": 3,
   "metadata": {},
   "outputs": [],
   "source": [
    "wine_feat = wine_df.iloc[:, :-1]\n",
    "wine_quality = wine_df['quality']"
   ]
  },
  {
   "cell_type": "code",
   "execution_count": 4,
   "metadata": {},
   "outputs": [],
   "source": [
    "uniques, counts = np.unique(wine_quality, return_counts=True)\n",
    "sizes = counts/counts.sum()"
   ]
  },
  {
   "cell_type": "code",
   "execution_count": 5,
   "metadata": {},
   "outputs": [
    {
     "data": {
      "image/png": "[encoded data removed]",
      "text/plain": [
       "<Figure size 1080x360 with 2 Axes>"
      ]
     },
     "metadata": {
      "needs_background": "light"
     },
     "output_type": "display_data"
    }
   ],
   "source": [
    "fig, axes = plt.subplots(1, 2, figsize=(15,5))\n",
    "\n",
    "axes[0].pie(sizes,labels=uniques, autopct='%1.1f%%',pctdistance=1.2, labeldistance=1.4,\n",
    "        shadow=True, startangle=180)\n",
    "axes[0].axis('equal')\n",
    "\n",
    "axes[1].bar(range(len(sizes)), sizes)\n",
    "axes[1].set_xticks(range(len(sizes)))\n",
    "axes[1].set_xticklabels(uniques)\n",
    "plt.show()"
   ]
  },
  {
   "cell_type": "code",
   "execution_count": 6,
   "metadata": {},
   "outputs": [],
   "source": [
    "from tensorflow.keras.layers import Input, Dense\n",
    "from tensorflow.keras import Model"
   ]
  },
  {
   "cell_type": "code",
   "execution_count": 32,
   "metadata": {},
   "outputs": [],
   "source": [
    "class Encoder(Model):\n",
    "    def __init__(self, z_dim=5, **kwargs):\n",
    "        super(Encoder, self).__init__(**kwargs)\n",
    "\n",
    "        self.dense_0 = Dense(64, name='Edense_0')\n",
    "        self.dense_1 = Dense(32, name='Edense_1')\n",
    "        self.dense_2 = Dense(16, name='Edense_2')\n",
    "        self.dense_3 = Dense(z_dim)\n",
    "        \n",
    "    def call(self, x):\n",
    "        x = tf.cast(x, tf.float32)\n",
    "        x = self.dense_0(x)\n",
    "        x = self.dense_1(x)\n",
    "        x = self.dense_2(x)\n",
    "        z = self.dense_3(x)\n",
    "        return z"
   ]
  },
  {
   "cell_type": "code",
   "execution_count": 33,
   "metadata": {},
   "outputs": [],
   "source": [
    "class Decoder(Model):\n",
    "    def __init__(self, out_dim=11, **kwargs):\n",
    "        super(Decoder, self).__init__(**kwargs)\n",
    "\n",
    "        self.dense_0 = Dense(16, name='Ddense_0')\n",
    "        self.dense_1 = Dense(32, name='Ddense_0')\n",
    "        self.dense_2 = Dense(64, name='Ddense_0')\n",
    "        self.dense_3 = Dense(out_dim)\n",
    "        \n",
    "    def call(self, x):\n",
    "        x = self.dense_0(x)\n",
    "        x = self.dense_1(x)\n",
    "        x = self.dense_2(x)\n",
    "        rec = self.dense_3(x)\n",
    "        return rec"
   ]
  },
  {
   "cell_type": "code",
   "execution_count": 67,
   "metadata": {},
   "outputs": [],
   "source": [
    "class Classifier(Model):\n",
    "    def __init__(self, out_dim=11, n_classes=6, **kwargs):\n",
    "        super(Classifier, self).__init__(**kwargs)\n",
    "\n",
    "        self.dense_0 = Dense(16, name='Ddense_0')\n",
    "        self.dense_1 = Dense(32, name='Ddense_0')\n",
    "        self.dense_2 = Dense(n_classes, activation='softmax')\n",
    "        \n",
    "    def call(self, x):\n",
    "        x = self.dense_0(x)\n",
    "        x = self.dense_1(x)\n",
    "        x = self.dense_2(x)\n",
    "        return x"
   ]
  },
  {
   "cell_type": "code",
   "execution_count": 187,
   "metadata": {},
   "outputs": [],
   "source": [
    "class AutoEncoder(Model):\n",
    "    def __init__(self, z_dim=6, out_dim=11, n_classes=6, **kwargs):\n",
    "        super(AutoEncoder, self).__init__(**kwargs)\n",
    "\n",
    "        self.encoder = Encoder(z_dim, name='Encoder')\n",
    "        self.decoder = Decoder(out_dim, name='Decoder')\n",
    "        self.classifier = Classifier(n_classes=n_classes)\n",
    "        \n",
    "    def call(self, x):\n",
    "        x = self.encoder(x)\n",
    "        y = self.classifier(x)\n",
    "        x = self.decoder(x)\n",
    "        return x, y\n",
    "\n",
    "    def model(self):\n",
    "        x = Input((11), name='Input')\n",
    "        return Model(inputs=x, outputs=self(x))\n",
    "    \n",
    "    def compile(self, rec_loss, class_loss, **kwargs):\n",
    "        super(AutoEncoder, self).compile(**kwargs)\n",
    "        self.loss_rec = rec_loss\n",
    "        self.loss_class = class_loss\n",
    "    \n",
    "    def train_step(self, data):\n",
    "        x, y = data\n",
    "\n",
    "        with tf.GradientTape() as tape:\n",
    "            x_rec, y_pred = self(x, training=True)  # Forward pass\n",
    "            # Compute the loss value\n",
    "            # (the loss function is configured in `compile()`)\n",
    "            rec_loss = self.loss_rec(x, x_rec)\n",
    "            class_loss = self.loss_class(y, y_pred)\n",
    "            total_loss = rec_loss + class_loss\n",
    "\n",
    "        # Compute gradients\n",
    "        trainable_vars = self.trainable_variables\n",
    "        gradients = tape.gradient(total_loss, trainable_vars)\n",
    "        # Update weights\n",
    "        self.optimizer.apply_gradients(zip(gradients, trainable_vars))\n",
    "        \n",
    "        # Update metrics (includes the metric that tracks the loss)\n",
    "        self.compiled_metrics.update_state(y, y_pred)\n",
    "        \n",
    "        # Add losses\n",
    "        self.add_metric(total_loss, aggregation='mean', name='total')\n",
    "        self.add_metric(rec_loss, aggregation='mean', name='rec')\n",
    "        self.add_metric(class_loss, aggregation='mean', name='cce')\n",
    "        \n",
    "        # Return a dict mapping metric names to current value\n",
    "        return {m.name: m.result() for m in self.metrics}\n",
    "    \n",
    "    def test_step(self, data):\n",
    "        x, y = data\n",
    "\n",
    "        with tf.GradientTape() as tape:\n",
    "            x_rec, y_pred = self(x, training=True)  # Forward pass\n",
    "            # Compute the loss value\n",
    "            # (the loss function is configured in `compile()`)\n",
    "            rec_loss = self.loss_rec(x, x_rec)\n",
    "            class_loss = self.loss_class(y, y_pred)\n",
    "            total_loss = rec_loss + class_loss\n",
    "        \n",
    "        # Update metrics (includes the metric that tracks the loss)\n",
    "        self.compiled_metrics.update_state(y, y_pred)\n",
    "        \n",
    "        # Add losses\n",
    "        self.add_metric(total_loss, aggregation='mean', name='total')\n",
    "        self.add_metric(rec_loss, aggregation='mean', name='rec')\n",
    "        self.add_metric(class_loss, aggregation='mean', name='cce')\n",
    "        \n",
    "        # Return a dict mapping metric names to current value\n",
    "        return {m.name: m.result() for m in self.metrics}\n"
   ]
  },
  {
   "cell_type": "code",
   "execution_count": 188,
   "metadata": {},
   "outputs": [],
   "source": [
    "model = AutoEncoder(z_dim=2, out_dim=11, name='AutoEncoder')"
   ]
  },
  {
   "cell_type": "code",
   "execution_count": 189,
   "metadata": {},
   "outputs": [
    {
     "name": "stdout",
     "output_type": "stream",
     "text": [
      "Model: \"functional_31\"\n",
      "_________________________________________________________________\n",
      "Layer (type)                 Output Shape              Param #   \n",
      "=================================================================\n",
      "Input (InputLayer)           [(None, 11)]              0         \n",
      "_________________________________________________________________\n",
      "AutoEncoder (AutoEncoder)    ((None, 11), (None, 6))   7619      \n",
      "=================================================================\n",
      "Total params: 7,619\n",
      "Trainable params: 7,619\n",
      "Non-trainable params: 0\n",
      "_________________________________________________________________\n"
     ]
    }
   ],
   "source": [
    "# It is important to run the model() method\n",
    "model.model().summary()"
   ]
  },
  {
   "cell_type": "code",
   "execution_count": 190,
   "metadata": {},
   "outputs": [],
   "source": [
    "model.compile(rec_loss=tf.keras.losses.MeanSquaredError(),\n",
    "              class_loss=tf.keras.losses.CategoricalCrossentropy(),\n",
    "              optimizer=tf.keras.optimizers.Adam(),\n",
    "              metrics=['MSE', 'accuracy'])"
   ]
  },
  {
   "cell_type": "code",
   "execution_count": 191,
   "metadata": {},
   "outputs": [],
   "source": [
    "n_classes = len(np.unique(wine_quality))\n",
    "x_train = wine_feat.values\n",
    "y_train = tf.one_hot(wine_quality.values, n_classes)"
   ]
  },
  {
   "cell_type": "code",
   "execution_count": 192,
   "metadata": {},
   "outputs": [],
   "source": [
    "estop = tf.keras.callbacks.EarlyStopping(monitor='total', restore_best_weights=False)\n",
    "tboard = tf.keras.callbacks.TensorBoard(\n",
    "            log_dir='./logs', histogram_freq=1, write_graph=True,\n",
    "            write_images=False, update_freq='epoch'\n",
    "        )"
   ]
  },
  {
   "cell_type": "code",
   "execution_count": 193,
   "metadata": {},
   "outputs": [
    {
     "name": "stdout",
     "output_type": "stream",
     "text": [
      "WARNING:tensorflow:Callbacks method `on_train_batch_end` is slow compared to the batch time (batch time: 0.0012s vs `on_train_batch_end` time: 0.0358s). Check your callbacks.\n"
     ]
    }
   ],
   "source": [
    "! rm -r ./logs\n",
    "history = model.fit(x_train, y_train,\n",
    "                    batch_size=64,\n",
    "                    epochs=1000,\n",
    "                    verbose=0,\n",
    "                    callbacks=[tboard, estop],\n",
    "                    validation_split=0.2)"
   ]
  },
  {
   "cell_type": "code",
   "execution_count": 194,
   "metadata": {},
   "outputs": [
    {
     "name": "stdout",
     "output_type": "stream",
     "text": [
      "50/50 [==============================] - 0s 871us/step - MSE: 0.2348 - accuracy: 0.5347 - total: 63.2766 - rec: 57.6248 - cce: 5.6518\n"
     ]
    }
   ],
   "source": [
    "r = model.evaluate(x_train, y_train)"
   ]
  },
  {
   "cell_type": "code",
   "execution_count": null,
   "metadata": {},
   "outputs": [],
   "source": []
  },
  {
   "cell_type": "markdown",
   "metadata": {},
   "source": [
    "# Visualizing latent space"
   ]
  },
  {
   "cell_type": "code",
   "execution_count": 195,
   "metadata": {},
   "outputs": [],
   "source": [
    "try:\n",
    "    import umap\n",
    "except:\n",
    "    !pip install umap-learn\n",
    "    import umap"
   ]
  },
  {
   "cell_type": "code",
   "execution_count": 196,
   "metadata": {},
   "outputs": [],
   "source": [
    "reducer = umap.UMAP(n_components=2)"
   ]
  },
  {
   "cell_type": "code",
   "execution_count": 197,
   "metadata": {},
   "outputs": [
    {
     "name": "stdout",
     "output_type": "stream",
     "text": [
      "WARNING:tensorflow:Layer Encoder is casting an input tensor from dtype float64 to the layer's dtype of float32, which is new behavior in TensorFlow 2.  The layer has dtype float32 because its dtype defaults to floatx.\n",
      "\n",
      "If you intended to run this layer in float32, you can safely ignore this warning. If in doubt, this warning is likely only an issue if you are porting a TensorFlow 1.X model to TensorFlow 2.\n",
      "\n",
      "To change all layers to have dtype float64 by default, call `tf.keras.backend.set_floatx('float64')`. To change just this layer, pass dtype='float64' to the layer constructor. If you are the author of this layer, you can disable autocasting by passing autocast=False to the base Layer constructor.\n",
      "\n"
     ]
    }
   ],
   "source": [
    "z_latent = model.encoder(x_train)"
   ]
  },
  {
   "cell_type": "code",
   "execution_count": 198,
   "metadata": {},
   "outputs": [],
   "source": [
    "embedding = reducer.fit_transform(z_latent)"
   ]
  },
  {
   "cell_type": "code",
   "execution_count": 199,
   "metadata": {},
   "outputs": [
    {
     "data": {
      "text/plain": [
       "<matplotlib.colorbar.Colorbar at 0x7f053835b6d0>"
      ]
     },
     "execution_count": 199,
     "metadata": {},
     "output_type": "execute_result"
    },
    {
     "data": {
      "image/png": "[encoded data removed]",
      "text/plain": [
       "<Figure size 432x288 with 2 Axes>"
      ]
     },
     "metadata": {
      "needs_background": "light"
     },
     "output_type": "display_data"
    }
   ],
   "source": [
    "plt.scatter(embedding[:, 0], embedding[:, 1], c=wine_quality.values)\n",
    "plt.colorbar()"
   ]
  },
  {
   "cell_type": "code",
   "execution_count": null,
   "metadata": {},
   "outputs": [],
   "source": []
  },
  {
   "cell_type": "code",
   "execution_count": null,
   "metadata": {},
   "outputs": [],
   "source": []
  }
 ],
 "metadata": {
  "kernelspec": {
   "display_name": "Python 3",
   "language": "python",
   "name": "python3"
  },
  "language_info": {
   "codemirror_mode": {
    "name": "ipython",
    "version": 3
   },
   "file_extension": ".py",
   "mimetype": "text/x-python",
   "name": "python",
   "nbconvert_exporter": "python",
   "pygments_lexer": "ipython3",
   "version": "3.8.2"
  }
 },
 "nbformat": 4,
 "nbformat_minor": 4
}
